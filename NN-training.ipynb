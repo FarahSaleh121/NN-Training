{
 "cells": [
  {
   "cell_type": "code",
   "execution_count": 1,
   "metadata": {},
   "outputs": [],
   "source": [
    "import numpy as np\n",
    "import pandas as pd\n",
    "import matplotlib.pyplot as plt\n",
    "from sklearn.model_selection import train_test_split\n",
    "from sklearn.preprocessing import StandardScaler\n",
    "from sklearn.metrics import mean_squared_error\n",
    "from statistics import mean\n",
    "from typing import Dict, List, Tuple"
   ]
  },
  {
   "cell_type": "markdown",
   "metadata": {},
   "source": [
    "Setting a random seed ensures reproducibility of results when using functions that rely on randomness from numpy."
   ]
  },
  {
   "cell_type": "code",
   "execution_count": 2,
   "metadata": {},
   "outputs": [],
   "source": [
    "np.random.seed(42)"
   ]
  },
  {
   "cell_type": "markdown",
   "metadata": {},
   "source": [
    "Neural Network Class (Neural):\n",
    "\n",
    "- Constructor (__init__): Initializes the neural network with parameters including the structure of layers, number of epochs, learning rate, batch size, validation split, and verbosity level.\n",
    "- fit Method: Trains the neural network using the provided data (X and y). It splits the data into training and validation sets, initializes the network layers, iterates over epochs, performs forward and backward passes, and updates the network weights.\n",
    "- predict Method: Predicts the output for given input data (X) using the trained model.\n",
    "- plot_learning Method: Plots the learning curves showing the training and validation losses over epochs.\n",
    "- Private Methods:\n",
    "  - init_layers: Initializes the weights and biases for the layers of the neural network.\n",
    "  - forward: Performs the forward pass through the network, calculating the output of each layer.\n",
    "  - calculate_loss: Calculates the loss between predicted and actual values (mean squared error).\n",
    "  - calculate_mse: Calculates the mean squared error between actual and predicted values.\n",
    "  - backward: Performs the backward pass through the network, updating the weights using gradient descent.\n"
   ]
  },
  {
   "cell_type": "markdown",
   "metadata": {},
   "source": [
    "- Forward Pass: In __forward, the input data is propagated forward through the network layers using matrix multiplication and activation functions (ReLU in this case).\n",
    "- Backward Pass (Backpropagation): In __backward, the gradients of the loss with respect to the weights and biases are computed and used to update the weights of each layer in the opposite direction of the gradient.\n",
    "- Training Loop: The fit method iterates over epochs, performing forward and backward passes for each batch of data. It calculates and tracks the training and validation losses for monitoring the model's performance.\n",
    "- Weight Initialization: Weights are initialized randomly using np.random.rand, and biases are initialized to ones. This helps break symmetry and prevents the gradients from vanishing or exploding.\n",
    "- Activation Function: ReLU (Rectified Linear Activation) function is used for hidden layers (np.maximum(batch, 0)), which introduces non-linearity into the network.\n",
    "- Gradient Descent: Weights and biases are updated using gradient descent (__backward), where the gradients are multiplied by the learning rate and subtracted from the current weights and biases."
   ]
  },
  {
   "cell_type": "code",
   "execution_count": 3,
   "metadata": {},
   "outputs": [],
   "source": [
    "class Neural:\n",
    "    \n",
    "    def __init__(self, layers: List[int], epochs: int, \n",
    "                 learning_rate: float = 0.001, batch_size: int=32,\n",
    "                 validation_split: float = 0.2, verbose: int=1):\n",
    "        self._layer_structure: List[int] = layers\n",
    "        self._batch_size: int = batch_size\n",
    "        self._epochs: int = epochs\n",
    "        self._learning_rate: float = learning_rate\n",
    "        self._validation_split: float = validation_split\n",
    "        self._verbose: int = verbose\n",
    "        self._losses: Dict[str, float] = {\"train\": [], \"validation\": []}\n",
    "        self._is_fit: bool = False\n",
    "        self.__layers = None\n",
    "        \n",
    "    def fit(self, X: np.ndarray, y: np.ndarray) -> None:\n",
    "        # validation split\n",
    "        X, X_val, y, y_val = train_test_split(X, y, test_size=self._validation_split, random_state=42)\n",
    "        # initialization of layers\n",
    "        self.__layers = self.__init_layers()\n",
    "        for epoch in range(self._epochs):\n",
    "            epoch_losses = []\n",
    "            for i in range(1, len(self.__layers)):\n",
    "                # forward pass\n",
    "                x_batch = X[i:(i+self._batch_size)]\n",
    "                y_batch = y[i:(i+self._batch_size)]\n",
    "                pred, hidden = self.__forward(x_batch)\n",
    "                # calculate loss\n",
    "                loss = self.__calculate_loss(y_batch, pred)\n",
    "                epoch_losses.append(np.mean(loss ** 2))\n",
    "                #backward\n",
    "                self.__backward(hidden, loss)\n",
    "            valid_preds, _ = self.__forward(X_val)\n",
    "            train_loss = mean(epoch_losses)\n",
    "            valid_loss = np.mean(self.__calculate_mse(valid_preds,y_val))\n",
    "            self._losses[\"train\"].append(train_loss)\n",
    "            self._losses[\"validation\"].append(valid_loss)\n",
    "            if self._verbose:\n",
    "                print(f\"Epoch: {epoch} Train MSE: {train_loss} Valid MSE: {valid_loss}\")\n",
    "        self._is_fit = True\n",
    "        return\n",
    "    \n",
    "    def predict(self, X: np.ndarray) -> np.ndarray:\n",
    "        if self._is_fit == False:\n",
    "            raise Exception(\"Model has not been trained yet.\")\n",
    "        pred, hidden = self.__forward(X)\n",
    "        return pred\n",
    "    \n",
    "    def plot_learning(self) -> None:\n",
    "        plt.plot(self._losses[\"train\"],label=\"loss\")\n",
    "        plt.plot(self._losses[\"validation\"],label=\"validation\")\n",
    "        plt.legend()\n",
    "    \n",
    "    def __init_layers(self) -> List[np.ndarray]:\n",
    "        layers = []\n",
    "        for i in range(1, len(self._layer_structure)):\n",
    "            layers.append([\n",
    "                np.random.rand(self._layer_structure[i-1], self._layer_structure[i]) / 5 - .1,\n",
    "                np.ones((1,self._layer_structure[i]))\n",
    "            ])\n",
    "        return layers\n",
    "    \n",
    "    def __forward(self, batch: np.ndarray) -> Tuple[np.ndarray, List[np.ndarray]]:\n",
    "        hidden = [batch.copy()]\n",
    "        for i in range(len(self.__layers)):\n",
    "            batch = np.matmul(batch, self.__layers[i][0]) + self.__layers[i][1]\n",
    "            if i < len(self.__layers) - 1:\n",
    "                batch = np.maximum(batch, 0)\n",
    "            # Store the forward pass hidden values for use in backprop\n",
    "            hidden.append(batch.copy())\n",
    "        return batch, hidden\n",
    "    \n",
    "    def __calculate_loss(self,actual: np.ndarray, predicted: np.ndarray) -> np.ndarray:\n",
    "        \"mse\"\n",
    "        return predicted - actual\n",
    "    \n",
    "    \n",
    "    def __calculate_mse(self, actual: np.ndarray, predicted: np.ndarray) -> np.ndarray:\n",
    "        return (actual - predicted) ** 2\n",
    "    \n",
    "    def __backward(self, hidden: List[np.ndarray], grad: np.ndarray) -> None:\n",
    "        for i in range(len(self.__layers)-1, -1, -1):\n",
    "            if i != len(self.__layers) - 1:\n",
    "                grad = np.multiply(grad, np.heaviside(hidden[i+1], 0))\n",
    "    \n",
    "            w_grad = hidden[i].T @ grad\n",
    "            b_grad = np.mean(grad, axis=0)\n",
    "    \n",
    "            self.__layers[i][0] -= w_grad * self._learning_rate\n",
    "            self.__layers[i][1] -= b_grad * self._learning_rate\n",
    "            \n",
    "            grad = grad @ self.__layers[i][0].T\n",
    "        return"
   ]
  },
  {
   "cell_type": "markdown",
   "metadata": {},
   "source": [
    "generate_data function : creates synthetic data with specified correlations between features."
   ]
  },
  {
   "cell_type": "markdown",
   "metadata": {},
   "source": [
    "- Correlation Values: corr_a, corr_b, and corr_c represent the correlation coefficients between independent features a, b, and c respectively, and the target feature.\n",
    "\n",
    "- Independent Features Generation: Independent features a, b, and c are generated from normal distributions with mean 0 and standard deviation 1, each containing 100,000 samples.\n",
    "  - Feature d is generated from a discrete uniform distribution between 0 and 4, containing 100,000 samples.\n",
    "  - Feature e is generated from a binomial distribution with 0.5 probability of success (i.e., 1) and 100,000 trials.\n",
    "\n",
    "- Target Feature Generation: The target feature is generated based on the independent features and the specified correlations.\n",
    "It is computed as a linear combination of the independent features (a, b, c, d, e) with coefficients (corr_a, corr_b, corr_c) along with some noise from a normal distribution with mean 0 and standard deviation 10.\n",
    "Additionally, contributions from features d and e are scaled by 10 and 20 respectively.\n",
    "\n",
    "- DataFrame Creation: pandas DataFrame (df) is created to hold all the generated features, including the independent features (a, b, c, d, e) and the target feature.\n",
    "The DataFrame is returned as the output of the function. "
   ]
  },
  {
   "cell_type": "code",
   "execution_count": 4,
   "metadata": {},
   "outputs": [],
   "source": [
    "def generate_data():\n",
    "    # Define correlation values\n",
    "    corr_a = 0.8\n",
    "    corr_b = 0.4\n",
    "    corr_c = -0.2\n",
    "    \n",
    "    # Generate independent features\n",
    "    a = np.random.normal(0, 1, size=100000)\n",
    "    b = np.random.normal(0, 1, size=100000)\n",
    "    c = np.random.normal(0, 1, size=100000)\n",
    "    d = np.random.randint(0, 4, size=100000)\n",
    "    e = np.random.binomial(1, 0.5, size=100000)\n",
    "    \n",
    "    # Generate target feature based on independent features\n",
    "    target = 50 + corr_a*a + corr_b*b + corr_c*c + d*10 + 20*e + np.random.normal(0, 10, size=100000)\n",
    "    \n",
    "    # Create DataFrame with all features\n",
    "    df = pd.DataFrame({'a': a, 'b': b, 'c': c, 'd': d, 'e': e, 'target': target})\n",
    "    return df"
   ]
  },
  {
   "cell_type": "markdown",
   "metadata": {},
   "source": [
    "- The generate_data function is called to create a synthetic dataset (df) with features and a target variable.\n",
    "- Features (X) and the target variable (y) are separated from the DataFrame (df).\n",
    "- Standard scaling is applied to the features using StandardScaler() to normalize them.\n",
    "- The dataset is split into training and testing sets using train_test_split.\n",
    "- The structure of the neural network is defined as [input_size, 10, 10, 1], indicating an input layer with the same size as the number of features, followed by two hidden layers with 10 neurons each, and an output layer with one neuron.\n",
    "- An instance of the Neural class (nn) is created with specified parameters: 20 epochs, learning rate of 1e-5, batch size of 64, and a validation split of 0.2.\n",
    "- The fit method of the Neural class is called to train the neural network on the training data (X_train, y_train).\n",
    "\n",
    "- Prediction and Evaluation:\n",
    "  - The trained model (nn) is used to predict the target variable for the test data (X_test) using the predict method.\n",
    "  - Learning curves are plotted using the plot_learning method to visualize the training and validation losses over epochs.\n",
    "  - Mean squared error is calculated between the predicted and actual target values for the test set using mean_squared_error from sklearn.metrics.\n",
    "  - The test error is printed to evaluate the performance of the model."
   ]
  },
  {
   "cell_type": "code",
   "execution_count": 5,
   "metadata": {},
   "outputs": [
    {
     "name": "stdout",
     "output_type": "stream",
     "text": [
      "Epoch: 0 Train MSE: 6066.584227303851 Valid MSE: 5630.972575612107\n",
      "Epoch: 1 Train MSE: 5870.45827241517 Valid MSE: 5384.024826048717\n",
      "Epoch: 2 Train MSE: 5584.489636840577 Valid MSE: 4993.952466830458\n",
      "Epoch: 3 Train MSE: 5127.642385432671 Valid MSE: 4376.563641292963\n",
      "Epoch: 4 Train MSE: 4408.550555767417 Valid MSE: 3470.967255214888\n",
      "Epoch: 5 Train MSE: 3370.6165240733935 Valid MSE: 2333.4365011529103\n",
      "Epoch: 6 Train MSE: 2112.702666917853 Valid MSE: 1245.1547720938968\n",
      "Epoch: 7 Train MSE: 1001.3618108374816 Valid MSE: 565.5834115291266\n",
      "Epoch: 8 Train MSE: 396.95140965489935 Valid MSE: 298.31216370120575\n",
      "Epoch: 9 Train MSE: 198.2900609070307 Valid MSE: 204.83294115572235\n",
      "Epoch: 10 Train MSE: 139.29311821219008 Valid MSE: 162.0341771457693\n",
      "Epoch: 11 Train MSE: 113.97162125348699 Valid MSE: 138.3549189707446\n",
      "Epoch: 12 Train MSE: 100.19734344395454 Valid MSE: 124.6017015640054\n",
      "Epoch: 13 Train MSE: 92.35069581444299 Valid MSE: 116.55999261926034\n",
      "Epoch: 14 Train MSE: 87.88890529435344 Valid MSE: 111.85169154584908\n",
      "Epoch: 15 Train MSE: 85.37162170152865 Valid MSE: 109.08001681897412\n",
      "Epoch: 16 Train MSE: 83.96135084225955 Valid MSE: 107.42929147368837\n",
      "Epoch: 17 Train MSE: 83.17564386183105 Valid MSE: 106.42800615549532\n",
      "Epoch: 18 Train MSE: 82.73977092210092 Valid MSE: 105.80581167903857\n",
      "Epoch: 19 Train MSE: 82.49876360284046 Valid MSE: 105.40815905002043\n",
      "Test error:  105.40244085384184\n"
     ]
    },
    {
     "data": {
      "image/png": "[encoded data removed]",
      "text/plain": [
       "<Figure size 640x480 with 1 Axes>"
      ]
     },
     "metadata": {},
     "output_type": "display_data"
    }
   ],
   "source": [
    "df = generate_data()\n",
    "\n",
    "# Separate the features and target\n",
    "X = df.drop('target', axis=1)\n",
    "y = df['target']\n",
    "\n",
    "scaler = StandardScaler()\n",
    "X = scaler.fit_transform(X)\n",
    "\n",
    "# Split the dataset into training and testing sets\n",
    "X_train, X_test, y_train, y_test = train_test_split(X, y, test_size=0.2, random_state=42)\n",
    "y_train = y_train.to_numpy().reshape(-1,1)\n",
    "y_test = y_test.to_numpy().reshape(-1,1)\n",
    "\n",
    "layer_structure = [X_train.shape[1],10,10,1]\n",
    "nn = Neural(layer_structure, 20, 1e-5, 64, 0.2, 1)\n",
    "\n",
    "nn.fit(X_train, y_train)\n",
    "\n",
    "y_pred = nn.predict(X_test)\n",
    "nn.plot_learning()\n",
    "\n",
    "print(\"Test error: \",mean_squared_error(y_test, y_pred))"
   ]
  },
  {
   "cell_type": "markdown",
   "metadata": {},
   "source": [
    "A- What I've learned from this code:\n",
    "\n",
    "This code demonstrates the implementation of a basic feedforward neural network using numpy.\n",
    "\n",
    "I've learned about the fundamental components of a neural network, including forward and backward propagation, weight initialization, activation functions, and gradient descent optimization. \n",
    "\n",
    "Additionally, I've gained insight into generating synthetic data with specified correlations for testing machine learning models."
   ]
  },
  {
   "cell_type": "markdown",
   "metadata": {},
   "source": [
    "B- Describe the results:\n",
    "\n",
    "The neural network was trained for 20 epochs on the generated dataset, with a decreasing trend in both training and validation mean squared errors (MSE) over epochs.\n",
    "\n",
    "The training MSE started at a high value of around 6066 and gradually decreased to approximately 82.5, indicating improvement in the model's performance.\n",
    " \n",
    "Similarly, the validation MSE decreased from around 5631 to approximately 105.4. \n",
    "\n",
    "The test error, calculated as the MSE between predicted and actual target values for the test set, was approximately 105.4, which aligns with the validation MSE."
   ]
  },
  {
   "cell_type": "markdown",
   "metadata": {},
   "source": [
    "C- Conclusion:\n",
    "\n",
    "the neural network learned from the training data, and we could see this because the errors decreased as it learned more. \n",
    "\n",
    "When we tested it on new data (the test set), it still performed well with low errors. However, there's room for improvement by adjusting some settings.\n",
    "\n",
    "Also, creating fake data with specific patterns helped us test the model's abilities in various situations."
   ]
  }
 ],
 "metadata": {
  "kernelspec": {
   "display_name": "Python 3",
   "language": "python",
   "name": "python3"
  },
  "language_info": {
   "codemirror_mode": {
    "name": "ipython",
    "version": 3
   },
   "file_extension": ".py",
   "mimetype": "text/x-python",
   "name": "python",
   "nbconvert_exporter": "python",
   "pygments_lexer": "ipython3",
   "version": "3.10.11"
  }
 },
 "nbformat": 4,
 "nbformat_minor": 2
}
